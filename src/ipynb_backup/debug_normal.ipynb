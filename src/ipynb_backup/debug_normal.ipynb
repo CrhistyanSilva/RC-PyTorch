{
 "cells": [
  {
   "cell_type": "code",
   "execution_count": 1,
   "metadata": {
    "pycharm": {
     "is_executing": false,
     "name": "#%%\n"
    },
    "scrolled": false
   },
   "outputs": [
    {
     "name": "stdout",
     "output_type": "stream",
     "text": [
      "WRAN: using Agg backend linux\n",
      "***No CUDA syncs for timings\n",
      "Getting lock for /scratch_net/fryr/mentzerf/datasets/DIV2K_new/DIV2K_valid_HR_crop4/cached_glob.pkl: .cached_glob.lock [reset: False]...\n",
      ">>> filter [min_size=52; discard_s=False]: 0.00094\n",
      "Getting lock for /scratch_net/fryr/mentzerf/datasets/DIV2K_new/DIV2K_valid_HR_crop4_bpg_q13/cached_glob.pkl: .cached_glob.lock [reset: False]...\n",
      ">>> filter [min_size=52; discard_s=False]: 0.00068\n",
      "Sorting...\n",
      "Got 1 datasets.\n",
      "Testing 1108_2150 at -1 ---\n",
      "*** global_config fw_s=3\n",
      "*** global_config long_means\n",
      "*** global_config long_pis\n",
      "*** global_config long_sigma\n",
      "*** global_config gdn\n",
      "*** global_config no_norm_final\n",
      "*** global_config down_up=deconv\n",
      "Updating config.lr.initial = 1e-05\n",
      "Using global_config: GlobalConfig(\n",
      "\tdown_up=deconv\n",
      "\tfw_s=3\n",
      "\tgdn\n",
      "\tlong_means\n",
      "\tlong_pis\n",
      "\tlong_sigma\n",
      "\tlr.initial=1e-05\n",
      "\tno_norm_final\n",
      "\tunet_skip)\n",
      "*** no norm for final\n",
      "*** DownUp, adding DeconvUp()\n",
      "filter_width for sigma = 3\n",
      "Did set tail_networks.sigmas\n",
      "Did set tail_networks.means\n",
      "Did set tail_networks.pis\n",
      "Setting tail_networks[ dict_keys(['sigmas', 'means', 'pis']) ]\n",
      "EB: self.cin_style = None\n",
      "******************************\n",
      "*** Padding by a factor 2\n",
      "******************************\n",
      "*** Ignoring 0 ckpts after 1573579348.4084997\n",
      "Restoring /scratch_net/fryr_third/mentzerf/logs/jointlogs/1108_2150 en@gdn_wide_deep3 new_oi_q12_14_128 lr.initial=1e-05 unet_skip/ckpts/ckpt_0000437250.pt.tmp... (strict=True)\n",
      "Convert disabled...\n",
      "EnhancementNetwork(\n",
      "  (head): Conv2d(3, 128, kernel_size=(3, 3), stride=(1, 1), padding=(1, 1))\n",
      "  (down): Conv2d(128, 128, kernel_size=(3, 3), stride=(2, 2), padding=(1, 1))\n",
      "  (unet_skip_conv): Sequential(\n",
      "    (0): Conv2d(256, 128, kernel_size=(3, 3), stride=(1, 1), padding=(1, 1))\n",
      "    (1): ReLU(inplace)\n",
      "  )\n",
      "  (body): Sequential(\n",
      "    (0): ResBlock(Conv(128x3)/N(128)/ReLU(inplace)/Conv(128x3)/N(128)/res_scale=0.1)\n",
      "    (1): ResBlock(Conv(128x3)/N(128)/ReLU(inplace)/Conv(128x3)/N(128)/res_scale=0.1)\n",
      "    (2): ResBlock(Conv(128x3)/N(128)/ReLU(inplace)/Conv(128x3)/N(128)/res_scale=0.1)\n",
      "    (3): ResBlock(Conv(128x3)/N(128)/ReLU(inplace)/Conv(128x3)/N(128)/res_scale=0.1)\n",
      "    (4): ResBlock(Conv(128x3)/N(128)/ReLU(inplace)/Conv(128x3)/N(128)/res_scale=0.1)\n",
      "    (5): ResBlock(Conv(128x3)/N(128)/ReLU(inplace)/Conv(128x3)/N(128)/res_scale=0.1)\n",
      "    (6): ResBlock(Conv(128x3)/N(128)/ReLU(inplace)/Conv(128x3)/N(128)/res_scale=0.1)\n",
      "    (7): ResBlock(Conv(128x3)/N(128)/ReLU(inplace)/Conv(128x3)/N(128)/res_scale=0.1)\n",
      "    (8): ResBlock(Conv(128x3)/N(128)/ReLU(inplace)/Conv(128x3)/N(128)/res_scale=0.1)\n",
      "    (9): ResBlock(Conv(128x3)/N(128)/ReLU(inplace)/Conv(128x3)/N(128)/res_scale=0.1)\n",
      "    (10): ResBlock(Conv(128x3)/N(128)/ReLU(inplace)/Conv(128x3)/N(128)/res_scale=0.1)\n",
      "    (11): ResBlock(Conv(128x3)/N(128)/ReLU(inplace)/Conv(128x3)/N(128)/res_scale=0.1)\n",
      "    (12): ResBlock(Conv(128x3)/N(128)/ReLU(inplace)/Conv(128x3)/N(128)/res_scale=0.1)\n",
      "    (13): ResBlock(Conv(128x3)/N(128)/ReLU(inplace)/Conv(128x3)/N(128)/res_scale=0.1)\n",
      "    (14): ResBlock(Conv(128x3)/N(128)/ReLU(inplace)/Conv(128x3)/N(128)/res_scale=0.1)\n",
      "    (15): ResBlock(Conv(128x3)/N(128)/ReLU(inplace)/Conv(128x3)/N(128)/res_scale=0.1)\n",
      "    (16): Conv2d(128, 128, kernel_size=(3, 3), stride=(1, 1), padding=(1, 1))\n",
      "  )\n",
      "  (after_skip): DeconvUp()\n",
      "  (tail): ProbClfTail(\n",
      "    (means): FeatureMapSaverSequential(\n",
      "      (0): ResBlock(Conv(128x3)/ReLU(inplace)/Conv(128x3)/res_scale=0.1)\n",
      "      (1): Conv2d(128, 128, kernel_size=(3, 3), stride=(1, 1), padding=(1, 1))\n",
      "      (2): LeakyReLU(negative_slope=0.01, inplace)\n",
      "      (3): Conv2d(128, 15, kernel_size=(1, 1), stride=(1, 1))\n",
      "    )\n",
      "    (sigmas): FeatureMapSaverSequential(\n",
      "      (0): ResBlock(Conv(128x3)/ReLU(inplace)/Conv(128x3)/res_scale=0.1)\n",
      "      (1): Conv2d(128, 128, kernel_size=(3, 3), stride=(1, 1), padding=(1, 1))\n",
      "      (2): LeakyReLU(negative_slope=0.01, inplace)\n",
      "      (3): Conv2d(128, 15, kernel_size=(1, 1), stride=(1, 1))\n",
      "    )\n",
      "    (pis): FeatureMapSaverSequential(\n",
      "      (0): ResBlock(Conv(128x3)/ReLU(inplace)/Conv(128x3)/res_scale=0.1)\n",
      "      (1): Conv2d(128, 128, kernel_size=(3, 3), stride=(1, 1), padding=(1, 1))\n",
      "      (2): LeakyReLU(negative_slope=0.01, inplace)\n",
      "      (3): Conv2d(128, 15, kernel_size=(1, 1), stride=(1, 1))\n",
      "    )\n",
      "    (lambdas): Conv2d(128, 15, kernel_size=(1, 1), stride=(1, 1))\n",
      "  )\n",
      ")\n",
      "[0, 0]\n"
     ]
    }
   ],
   "source": [
    "from helpers.notebook_dict import set_is_in_notebook\n",
    "\n",
    "set_is_in_notebook(True)\n",
    "\n",
    "import os\n",
    "os.environ['FORCE_AGG'] = '1'\n",
    "import numpy as np \n",
    "import IPython\n",
    "import torch\n",
    "from PIL import Image\n",
    "import torch.nn.functional as F\n",
    "\n",
    "\n",
    "from run_test import get_tester_and_dataset\n",
    "\n",
    "T_Q10 = os.environ['T_OI_Q10']\n",
    "T_Q15 = os.environ['T_OI_Q15']\n",
    "\n",
    "os.environ['T_DIV_CROP_Q12'] = '/scratch_net/fryr/mentzerf/datasets/DIV2K_new/DIV2K_valid_HR_crop4;/scratch_net/fryr/mentzerf/datasets/DIV2K_new/DIV2K_valid_HR_crop4_bpg_q12'\n",
    "\n",
    "L_Q10 = '1002_1751'\n",
    "L_Q15 = '0930_1004'\n",
    "\n",
    "DS_OI = '/srv/beegfs02/scratch/cnncompression/data/datasets/openimages/test_768_clean_m500'\n",
    "DS_CB = 'checkerboard'\n",
    "args = [\n",
    "    os.environ['LOGS_THIRD'],# + '/AWS/',\n",
    "    '1108_2150',\n",
    "    os.environ['T_DIV_CROP_Q13'],\n",
    "#     '/scratch_net/fryr/mentzerf/datasets/DIV2K_new/DIV2K_valid_HR_crop4_multi_q8_9_10_11_12_13_14_15',\n",
    "#     '/scratch_net/fryr_second/mentzerf/datasets/RAISE_1k/RAISE_1k_raw_r100_crop16;/scratch_net/fryr_second/mentzerf/datasets/RAISE_1k/RAISE_1k_raw_r100_crop16_bpg_q12',\n",
    "#     '/home/mentzerf/net_scratch/datasets/openimages_rand/val_oi_500_r_multi_q9_10_11_12_13_14_15',\n",
    "  '--crop', '52'\n",
    "]\n",
    "t, ds = get_tester_and_dataset(args)\n",
    "\n",
    "from modules import conditional_instance_norm\n",
    "\n",
    "print(t.blueprint.net)\n",
    "\n",
    "all_vars = conditional_instance_norm._all_vars\n",
    "print([len(v) for v in all_vars.values()])"
   ]
  },
  {
   "cell_type": "code",
   "execution_count": 2,
   "metadata": {
    "pycharm": {
     "is_executing": false,
     "name": "#%%\n"
    }
   },
   "outputs": [],
   "source": [
    "\n",
    "def normalize_to_0_1(t, mi=None, ma=None):\n",
    "    if mi is None:\n",
    "        mi = t.min()\n",
    "    if ma is None:\n",
    "        ma = t.max()\n",
    "    return t.add(-mi).div(ma - mi + 1e-5)\n",
    "\n",
    "def show_tensor(t, normalize=False, mi=None, ma=None, blow_up=None, show_range=False):\n",
    "    if show_range:\n",
    "        r = t.min().item(), t.max().item()\n",
    "    if normalize:\n",
    "        t = normalize_to_0_1(t.detach(), mi, ma).mul(255.).round().to(torch.uint8)\n",
    "        \n",
    "    t = t.detach().numpy()\n",
    "    if len(t.shape) == 4:\n",
    "        t = t[0, ...]\n",
    "    t_shape = t.shape\n",
    "    if len(t.shape) == 2:\n",
    "        t = np.stack([t, t, t], -1)\n",
    "    if len(t_shape) == 3 and t_shape[0] == 3:\n",
    "        t = t.transpose(1, 2, 0)\n",
    "\n",
    "    # now is HWC\n",
    "    \n",
    "    \n",
    "    if blow_up:\n",
    "        t = t.repeat(blow_up, axis=0).repeat(blow_up, axis=1)\n",
    "    \n",
    "    if show_range:\n",
    "        print(r)\n",
    "        \n",
    "    IPython.display.display(Image.fromarray(t))\n",
    "    \n",
    "    return t\n"
   ]
  },
  {
   "cell_type": "code",
   "execution_count": 3,
   "metadata": {
    "scrolled": false
   },
   "outputs": [
    {
     "name": "stdout",
     "output_type": "stream",
     "text": [
      "*****\n",
      "*****\n",
      "*****\n",
      "*****\n",
      "*****\n",
      "*****\n",
      "*****\n",
      "*****\n",
      "*****\n",
      "*****\n",
      "\n"
     ]
    }
   ],
   "source": [
    "# show_tensor(t.blueprint.net.learned_skip.weight.squeeze(), normalize=True,blow_up=5)\n",
    "\n",
    "# print(t.blueprint.net.learned_skip.weight.min())\n",
    "\n",
    "# show_tensor(t.blueprint.net.learned_skip.bias.unsqueeze(-1), normalize=True, blow_up=5)\n",
    "\n",
    "for g in all_vars['gamma']:\n",
    "    show_tensor(g, normalize=True, blow_up=10, show_range=True)\n",
    "print('*****\\n'*10)\n",
    "for g in all_vars['beta']:\n",
    "    show_tensor(g, normalize=True, blow_up=10, show_range=True)"
   ]
  },
  {
   "cell_type": "code",
   "execution_count": 4,
   "metadata": {
    "pycharm": {
     "is_executing": false,
     "name": "#%%\n"
    },
    "scrolled": true
   },
   "outputs": [
    {
     "name": "stdout",
     "output_type": "stream",
     "text": [
      "<class 'dataloaders.compressed_images_loader.ResidualDataset'>\n",
      "dict_keys(['bpp', 'raw', 'compressed'])\n",
      "3.72271\n"
     ]
    },
    {
     "data": {
      "image/png": "[encoded data removed]",
      "text/plain": [
       "<PIL.Image.Image image mode=RGB size=52x52 at 0x7F2CBE383EB8>"
      ]
     },
     "metadata": {},
     "output_type": "display_data"
    },
    {
     "name": "stdout",
     "output_type": "stream",
     "text": [
      "res\n",
      "(-5.0, 5.0)\n"
     ]
    },
    {
     "data": {
      "image/png": "[encoded data removed]",
      "text/plain": [
       "<PIL.Image.Image image mode=RGB size=52x52 at 0x7F2CE036EBA8>"
      ]
     },
     "metadata": {},
     "output_type": "display_data"
    },
    {
     "name": "stdout",
     "output_type": "stream",
     "text": [
      "res\n",
      "(-4.0, 3.0)\n"
     ]
    },
    {
     "data": {
      "image/png": "[encoded data removed]",
      "text/plain": [
       "<PIL.Image.Image image mode=RGB size=52x52 at 0x7F2CBE3327B8>"
      ]
     },
     "metadata": {},
     "output_type": "display_data"
    },
    {
     "name": "stdout",
     "output_type": "stream",
     "text": [
      "res\n",
      "(-4.0, 4.0)\n"
     ]
    },
    {
     "data": {
      "image/png": "[encoded data removed]",
      "text/plain": [
       "<PIL.Image.Image image mode=RGB size=52x52 at 0x7F2CBE332908>"
      ]
     },
     "metadata": {},
     "output_type": "display_data"
    }
   ],
   "source": [
    "ds_it = iter(ds)\n",
    "print(type(ds))\n",
    "\n",
    "filenames = {ds.get_filename(i): i for i in range(len(ds))}\n",
    "file_idx = filenames['0808_0']\n",
    "# img1 = ds.get_max_bpp_img()\n",
    "img1 = ds[file_idx]\n",
    "print(img1.keys())\n",
    "if 13 in img1:\n",
    "    img1 = img1[13]\n",
    "print(img1['bpp'])\n",
    "show_tensor(img1['compressed'])\n",
    "for c in range(3):\n",
    "    print('res')\n",
    "    show_tensor(img1['raw'][c, ...].float() - img1['compressed'][c, ...].float(), normalize=True, show_range=True)"
   ]
  },
  {
   "cell_type": "code",
   "execution_count": 5,
   "metadata": {},
   "outputs": [],
   "source": [
    "from collections import defaultdict\n",
    "\n",
    "from fjcommon.no_op import NoOp\n",
    "\n",
    "import vis.safe_summary_writer\n",
    "import vis.summarizable_module\n",
    "from vis import image_summaries\n",
    "\n",
    "\n",
    "class _FakeSummaryWriter(vis.safe_summary_writer.SafeSummaryWriter):\n",
    "    def __init__(self):\n",
    "        self.cache = None\n",
    "        self.file_writer = NoOp\n",
    "        self.clear()\n",
    "\n",
    "    def add_scalar(self, tag, scalar_value, global_step=None):\n",
    "        self.cache[global_step][tag] = scalar_value\n",
    "\n",
    "    def add_image(self, tag, img_tensor, global_step=None, **kwargs):\n",
    "        if len(img_tensor.shape) == 2:\n",
    "            img = img_tensor.reshape(1, *img_tensor.shape)\n",
    "        img = image_summaries.to_image(img_tensor)  # make sure this does not raise\n",
    "        self.cache[global_step][tag] = img\n",
    "\n",
    "    def add_text(self, tag, text_string, global_step=None):\n",
    "        assert isinstance(text_string, str)\n",
    "        self.cache[global_step][tag] = text_string\n",
    "\n",
    "    def clear(self):\n",
    "        self.cache = defaultdict(dict)\n",
    "\n",
    "sw = _FakeSummaryWriter()\n",
    "s = vis.summarizable_module.Summarizer(sw)\n",
    "s.enable('val', 0)\n",
    "t.blueprint.register_summarizer(s)"
   ]
  },
  {
   "cell_type": "code",
   "execution_count": 6,
   "metadata": {},
   "outputs": [],
   "source": [
    "# t.blueprint.net.tail.sigmas.weight.shape\n",
    "# show_tensor(t.blueprint.net.tail.sigmas.weight.squeeze(), normalize=True, blow_up=10, mi=0)\n",
    "# show_tensor(t.blueprint.net.tail.means.weight.squeeze(), normalize=True, blow_up=10, mi=0)"
   ]
  },
  {
   "cell_type": "code",
   "execution_count": 7,
   "metadata": {},
   "outputs": [],
   "source": [
    "# from helpers.notebook_dict import notebook_dict as nd\n",
    "\n",
    "# t.blueprint.net.prob_clfs[0].atrous.lin.weight[:] = 1/192.\n",
    "\n",
    "# print([n for n, _ in t.blueprint.net.named_parameters\n",
    "from helpers.global_config import global_config\n",
    "from blueprints.enhancement_blueprint import get_cin_classes\n",
    "from modules import conditional_instance_norm\n",
    "\n",
    "from torch.nn import functional as F\n",
    "from helpers.quantized_tensor import NormalizedTensor\n",
    "\n",
    "for img in (img1, ):\n",
    "    x_n, bpps, _ = t.blueprint.unpack_batch_pad(img)# t.blueprint.get_padding_fac())\n",
    "    out = t.blueprint.forward(x_n, bpps)\n",
    "    "
   ]
  },
  {
   "cell_type": "code",
   "execution_count": 19,
   "metadata": {
    "scrolled": false
   },
   "outputs": [
    {
     "name": "stdout",
     "output_type": "stream",
     "text": [
      "1.1858352422714233"
     ]
    }
   ],
   "source": [
    "from torch import nn\n",
    "from modules import prob_clf\n",
    "taus = nn.Parameter(torch.ones(1, 3, 5, 1, 1, requires_grad=True))\n",
    "\n",
    "# sigmas_orig = out.network_out.sigmas.clone()\n",
    "network_out = out.network_out \n",
    "\n",
    "# out.network_out = out_new\n",
    "\n",
    "optim = torch.optim.Adam([taus])\n",
    "t.blueprint.losses.train(True)\n",
    "\n",
    "# print(out.x_r.t.grad)\n",
    "for i in range(1000):\n",
    "    if taus.grad is not None:\n",
    "        taus.grad.detach_()\n",
    "        taus.grad.zero_()\n",
    "        taus.grad = None\n",
    "#     print(i, taus.reshape(-1).detach().cpu().numpy())\n",
    "    \n",
    "    new_sigmas = out.network_out.sigmas.detach() * taus\n",
    "    out_new = prob_clf.NetworkOutput(network_out.means.detach(), new_sigmas, network_out.pis.detach(), network_out.lambdas.detach())\n",
    "# \n",
    "    loss = t.blueprint.losses.loss_dmol_rgb(out.res, out_new).mean()\n",
    "#     loss = \n",
    "#     nll = self.loss_dmol_rgb(out.res, out.network_out, scale=0)\n",
    "\n",
    "    print('\\r' + str(loss.item()), end='')#, taus.grad)\n",
    "    loss.backward() \n",
    "#     print('backward done')\n",
    "    optim.step()\n",
    "    optim.zero_grad()\n"
   ]
  },
  {
   "cell_type": "code",
   "execution_count": null,
   "metadata": {
    "scrolled": true
   },
   "outputs": [],
   "source": [
    "print(out)\n",
    "from modules import prob_clf\n",
    "\n",
    "sigmas_orig = out.network_out.sigmas.clone()\n",
    "network_out = out.network_out \n",
    "\n",
    "def _new_out(sigmas):\n",
    "    return prob_clf.NetworkOutput(network_out.means,\n",
    "                                    sigmas,\n",
    "                                    network_out.pis,\n",
    "                                    network_out.lambdas)\n",
    "\n",
    "for tau in (0.7, 0.8, 0.9, 1.0, 1.1):\n",
    "    out_ = _new_out(sigmas_orig * tau)\n",
    "    out.network_out = out_\n",
    "    loss = t.blueprint.losses(out).total_loss\n",
    "    print(loss)\n",
    "    \n",
    "print(sigmas_orig.shape)"
   ]
  },
  {
   "cell_type": "code",
   "execution_count": null,
   "metadata": {},
   "outputs": [],
   "source": [
    "from lossy.other_codecs import bpg_compress_to, decode_bpg_to_png\n",
    "\n",
    "\n",
    "# raw_p = ds.get_raw_p(img_idx)\n",
    "# print(raw_p)\n",
    "\n",
    "# t = torch.from_numpy(np.array())\n",
    "import import_train_images\n",
    "from helpers.quantized_tensor import SymbolTensor\n",
    "\n",
    "\n",
    "def get_res(p1, p2):\n",
    "    _i1 = torch.from_numpy(np.array(Image.open(p1))).long()\n",
    "    _i2 = torch.from_numpy(np.array(Image.open(p2))).long()\n",
    "    _res = _i1 - _i2\n",
    "    return SymbolTensor(_res, L=511, centered=True).to_norm().t\n",
    "\n",
    "\n",
    "# im_o = import_train_images.resize(Image.open(raw_p), res=768*0.75)\n",
    "# im_o_p_jpg = 'some_tmp_debug_img.jpg'\n",
    "# im_o_p_png = 'some_tmp_debug_img.png'\n",
    "# im_o.save(im_o_p_jpg, quality=95)\n",
    "# im_o.save(im_o_p_png)\n",
    "\n",
    "# res_jpg_png = get_res(im_o_p_png, im_o_p_jpg)\n",
    "# for c in range(3):\n",
    "#     print(f'res_jpg_png{c}')\n",
    "#     show_tensor(res_jpg_png[:200, :200, c], normalize=True, blow_up=2)\n",
    "    \n",
    "\n",
    "# im_o_p = im_o_p_jpg\n",
    "# im_o_bpg_p = 'some_tmp_debug_img_bpg.png'\n",
    "\n",
    "# bpg_compress_to(im_o_p, im_o_p + '_bpg', 10)\n",
    "# decode_bpg_to_png(im_o_p + '_bpg', im_o_bpg_p)\n",
    "\n",
    "# im_o_t = torch.from_n/umpy(np.array(Image.open(im_o_p))).long()\n",
    "# im_o_bpg_t = torch.from_numpy(np.array(Image.open(im_o_bpg_p))).long()\n",
    "# img_2 = im_o_t - im_o_bpg_t\n",
    "# img_2 = SymbolTensor(img_2, L=511, centered=True).to_norm().t\n",
    "# show_tensor()\n",
    "\n",
    "\n",
    "# show_tensor(out.x_r.to_norm().t, normalize=True)\n",
    "# print(out.res.t.shape)\n",
    "\n",
    "sl = slice(None)\n",
    "bu = 2\n",
    "\n",
    "x_l = (out.x_r.t - out.res_sym.t).to(torch.uint8)\n",
    "print(x_l.min(), x_l.max())\n",
    "\n",
    "corrected_means = out.get_mean_img(t.blueprint.losses.loss_dmol_rgb)\n",
    "\n",
    "loss = t.blueprint.losses.loss_dmol_rgb(out.res, out.network_out)\n",
    "# show_tensor(out)"
   ]
  },
  {
   "cell_type": "code",
   "execution_count": null,
   "metadata": {
    "scrolled": true
   },
   "outputs": [],
   "source": [
    "res_mi, res_ma = out.res.t.min(), out.res.t.max()\n",
    "\n",
    "for c in range(3):\n",
    "    img_c = out.res.t[0, c, ...]\n",
    "#     img_c_2 = img_2[..., c]\n",
    "#     mi, ma = min(img_c.min(), img_c_2.min()), max(img_c.max(), img_c_2.max())\n",
    "#     print(img_c.min(), img_c.max())\n",
    "    print(f'x_r[{c}]')\n",
    "    show_tensor(out.x_r.t[0, c, sl, sl].to(torch.uint8), blow_up=bu, show_range=True)\n",
    "    print(f'x_l[{c}]')\n",
    "    show_tensor(x_l[0, c, sl, sl], blow_up=bu)\n",
    "#     print(f'JPG - BPG(JPG)[{c}]')\n",
    "#     show_tensor(img_c_2[:200, :200], normalize=True, blow_up=2, mi=mi, ma=ma)\n",
    "    print(f'out.res[{c}] (GT) == PNG - BPG(PNG)')\n",
    "    show_tensor(img_c[sl, sl], normalize=True, blow_up=bu, show_range=True, mi=res_mi, ma=res_ma)#, mi=mi, ma=ma)\n",
    "    \n",
    "#     show_tensor(out.x_r.t[0,c,...].float() - x_l[0, c, ...].float(), normalize=True, blow_up=bu)\n",
    "    \n",
    "# for c in range(3):\n",
    "    print(f'predicted_mean[{c}]')\n",
    "    show_tensor(corrected_means[0, c, sl, sl], normalize=True, blow_up=bu, show_range=True, mi=res_mi, ma=res_ma)\n",
    "    diff = out.res.t - corrected_means\n",
    "    print(f'res - predicted_mean[{c}]')\n",
    "    show_tensor(diff[0, c, sl, sl], normalize=True, blow_up=bu, show_range=True)\n",
    "_, C, K, _, _ = out.network_out.sigmas.shape\n",
    "    \n",
    "    \n",
    "logit_pis_sm = F.softmax(out.network_out.pis, dim=2)  # NCKHW, pi_k\n",
    "\n",
    "scaled_sigmas = (out.network_out.sigmas * logit_pis_sm).sum(2)\n",
    "# scaled_means  = (out.network_out.means  * logit_pis_sm).sum(2)\n",
    "\n",
    "\n",
    "for c in range(C):\n",
    "    print('---')\n",
    "    print(f'SIGMA_scaled c{c};')\n",
    "    show_tensor(scaled_sigmas[0, c, sl, sl], normalize=True, blow_up=bu, show_range=True)\n",
    "    print(f'MEAN_corrected_scaled c{c}')\n",
    "    show_tensor(corrected_means[0, c, sl, sl], normalize=True, blow_up=bu, show_range=True, mi=res_mi, ma=res_ma)\n",
    "\n",
    "print('***\\n***\\n***\\n***\\n***')\n",
    "\n",
    "# normalized_pis = \n",
    "\n",
    "for c in range(C):\n",
    "    for k in range(K):\n",
    "        print(f'PI c{c};k{k}')\n",
    "        show_tensor(logit_pis_sm[0, c, k, sl, sl], normalize=True, blow_up=bu, show_range=True, mi=0, ma=1)\n",
    "        print(f'SIGMA c{c};k{k}')\n",
    "        show_tensor(out.network_out.sigmas[0, c, k, sl, sl], normalize=True, blow_up=bu, show_range=True)\n",
    "        print(f'MEAN c{c};k{k}')\n",
    "        show_tensor(out.network_out.means[0, c, k, sl, sl], normalize=True, blow_up=bu, show_range=True, mi=res_mi, ma=res_ma)\n",
    "                         \n",
    "\n",
    "\n",
    "\n",
    "# show_tensor(t.blueprint.net.heads[0].head[1].gamma, normalize=True)\n",
    "\n",
    "# show_tensor(t.blueprint.net.prob_clfs[0].tail.means[0].gamma, normalize=True)\n",
    "# print(t.blueprint.net.prob_clfs[0].tail.means[0].beta)\n",
    "# loss_pc, nonrecursive_bpsps, _ = t.blueprint.get_loss(out)\n",
    "\n",
    "# print(nonrecursive_bpsps)\n",
    "\n",
    "# #     t.blueprint.add_image_summaries(sw, out, 0, 'val')\n",
    "\n",
    "# print('loss', loss_pc)\n",
    "# #     print(sw.cache[0].keys()) \n",
    "# lossy_rec = sw.cache[0]['val/predicted_mean']\n",
    "# print(lossy_rec.shape)\n",
    "# IPython.display.display(Image.fromarray((lossy_rec)))\n",
    "\n",
    "# gt = s.get()[0, ...].permute(1, 2, 0).float()\n",
    "# diff = torch.from_numpy(lossy_rec).float() - gt\n",
    "# diff_arr = show_tensor(diff, normalize=True)\n",
    "\n",
    "# Image.fromarray(diff_arr).save('test_db.png')\n",
    "# print(os.path.getsize('test_db.png') * 8 / np.prod(diff_arr.shape))\n",
    "\n",
    "# img_raw = sw.cache[0]['val/dmll/0/c2'][...]\n",
    "# img = Image.fromarray(img_raw)\n",
    "# IPython.display.display(img)\n",
    "\n",
    "# #     w = t.blueprint.net.prob_clfs[0].atrous.lin.weight  # 12, 192\n",
    "# #     w = w[2*3*1:3*3*1, ...]\n",
    "# #     plt.figure()\n",
    "# #     for k in range(w.shape[0]):\n",
    "# #         plt.plot(range(w.shape[1]), w[k, :, 0, 0].detach().numpy())\n",
    "\n",
    "\n",
    "# #     print('bitcost pp', nd['bitcost'][0, 2, 20:25, 20:25])\n",
    "\n",
    "# #     bc = sw.cache[0]['val/dmll/bitcost/0'][...]\n",
    "\n",
    "# #     IPython.display.display(Image.fromarray((bc > 0).astype(np.uint8) * 255))\n",
    "\n",
    "# #     IPython.display.display(Image.fromarray(sw.cache[0]['val/dmll/bitcost/0'][...]))\n",
    "\n",
    "# #     IPython.display.display(Image.fromarray(sw.cache[0]['val/bn/1'][...]))"
   ]
  },
  {
   "cell_type": "code",
   "execution_count": null,
   "metadata": {
    "scrolled": false
   },
   "outputs": [],
   "source": [
    "# print(os.listdir('tmp/new_age_feat_maps/'))\n",
    "# # IPython.display.display(Image.open('tmp/new_age_feat_maps/after_body_0000000000.png'))\n",
    "# IPython.display.display(Image.open('tmp/new_age_feat_maps/head_0000000000.png'))\n",
    "# IPython.display.display(Image.open('tmp/new_age_feat_maps/body_bs_0000000000.png'))\n",
    "# IPython.display.display(Image.open('tmp/new_age_feat_maps/body_as_0000000000.png'))\n",
    "# IPython.display.display(Image.open('tmp/new_age_feat_maps/final_sigmas_0000000000.png'))\n",
    "# IPython.display.display(Image.open('tmp/new_age_feat_maps/sigmas_0000000000.png'))\n",
    "# IPython.display.display(Image.open('tmp/new_age_feat_maps/means_0000000000.png'))"
   ]
  },
  {
   "cell_type": "code",
   "execution_count": null,
   "metadata": {},
   "outputs": [],
   "source": []
  },
  {
   "cell_type": "code",
   "execution_count": null,
   "metadata": {},
   "outputs": [],
   "source": [
    "from bitcoding import coders_helpers\n",
    "\n",
    "\n",
    "\n",
    "def get_C(l, x, chan=0):\n",
    "    c = coders_helpers.CodingCDFNonshared(l, 3, t.blueprint.losses.loss_dmol_rgb)\n",
    "    c.c_cur = chan\n",
    "    C = c.get_next_C(x)\n",
    "    return _get_C_cur_weighted(C.logit_probs_c_sm, c.targets, C.means_c, C.log_scales_c)\n",
    "\n",
    "def _get_C_cur_weighted(logit_probs_softmax_c, targets, means_c, log_scales_c):\n",
    "    C_cur = _get_C_cur(targets, means_c, log_scales_c)  # NKHWL\n",
    "    C_cur = C_cur.mul(logit_probs_softmax_c.unsqueeze(-1)).sum(1)  # NHWL\n",
    "    return C_cur\n",
    "\n",
    "\n",
    "def _get_C_cur(targets, means_c, log_scales_c):  # NKHWL\n",
    "    \"\"\"\n",
    "    :param targets: Lp floats\n",
    "    :param means_c: NKHW\n",
    "    :param log_scales_c: NKHW\n",
    "    :return:\n",
    "    \"\"\"\n",
    "    # NKHW1\n",
    "#     print(log_scales_c.unique)\n",
    "    inv_stdv = torch.exp(-log_scales_c).unsqueeze(-1)\n",
    "#     print(inv_stdv.unique)\n",
    "    # NKHWL'\n",
    "    centered_targets = (targets - means_c.unsqueeze(-1))\n",
    "#     print(centered_targets.shape, inv_stdv.shape)\n",
    "    # NKHWL'\n",
    "    arg = centered_targets.mul(inv_stdv)\n",
    "#     print(arg.unique())\n",
    "    cdf = arg.sigmoid()  # sigma' * (x - mu)\n",
    "    return cdf\n",
    "\n"
   ]
  },
  {
   "cell_type": "code",
   "execution_count": null,
   "metadata": {},
   "outputs": [],
   "source": []
  },
  {
   "cell_type": "code",
   "execution_count": null,
   "metadata": {},
   "outputs": [],
   "source": [
    "%matplotlib notebook\n",
    "\n",
    "from ipywidgets import interact, interactive, fixed, interact_manual\n",
    "import matplotlib.pyplot as plt\n",
    "\n",
    "\n",
    "print(torch.cuda.is_available())\n",
    "\n",
    "import torch.nn.functional as F\n",
    "\n",
    "print(out)\n",
    "P = out.network_out\n",
    "dmll = t.blueprint.losses.loss_dmol_rgb\n",
    "\n",
    "img_raw = img1['raw'].float()\n",
    "\n",
    "means = P.means\n",
    "mean_ma,_ = torch.max(means,dim=2)\n",
    "mean_mi,_ = torch.min(means,dim=2)\n",
    "print(mean_ma.shape)\n",
    "mean_diffs = mean_ma - mean_mi"
   ]
  },
  {
   "cell_type": "code",
   "execution_count": null,
   "metadata": {},
   "outputs": [],
   "source": [
    "show_tensor(mean_diffs,normalize=True)\n",
    "x_range = (153,163)\n",
    "y_range = (183,184)\n",
    "show_tensor(img_raw[..., slice(*x_range), slice(*y_range)],normalize=True, blow_up=10)\n",
    "print(means.shape)"
   ]
  },
  {
   "cell_type": "code",
   "execution_count": null,
   "metadata": {
    "scrolled": false
   },
   "outputs": [],
   "source": [
    "# x_r, x_l = x_n\n",
    "dmll.plot(out.res, P, plt, x_range=x_range, y_range=y_range)"
   ]
  },
  {
   "cell_type": "code",
   "execution_count": null,
   "metadata": {
    "pycharm": {
     "is_executing": false,
     "name": "#%%\n"
    }
   },
   "outputs": [],
   "source": [
    "%matplotlib notebook\n",
    "\n",
    "from ipywidgets import interact, interactive, fixed, interact_manual\n",
    "import matplotlib.pyplot as plt\n",
    "\n",
    "\n",
    "print(torch.cuda.is_available())\n",
    "\n",
    "import torch.nn.functional as F\n",
    "\n",
    "P = out.P[0]\n",
    "\n",
    "x = t.blueprint.losses.loss_dmol_rgb.to_bn(p)\n",
    "\n",
    "\n",
    "\n",
    "c1 = get_C(P, x, 0).detach().numpy()\n",
    "c2 = get_C(P, x, 1).detach().numpy()\n",
    "c3 = get_C(P, x, 2).detach().numpy()\n",
    "print(c1.shape)\n",
    "\n",
    "fig = None\n",
    "\n",
    "f, axs = plt.subplots(3, 1, sharex=True)\n",
    "\n",
    "for ci, ax in zip((c1, c2, c3), axs):\n",
    "    for x in range(40, 50, 1):\n",
    "        for y in range(40, 50, 1):\n",
    "            data = ci[0, int(x), int(y), ...]\n",
    "#                 print(data)\n",
    "            ax.plot(np.arange(257), data)\n",
    "plt.show()\n",
    "\n",
    "# # def f(x=list(range(c1.shape[1])), y=list(range(c1.shape[2]))):\n",
    "# def f(x, y):\n",
    "#     plt.clf()\n",
    "#     data = c1[0, int(x), int(y), ...]\n",
    "# #    print(x, y, data)\n",
    "#     plt.plot(np.arange(257), data)\n",
    "# #     plt.ylim(0, 1)\n",
    "#     plt.show()\n",
    "\n",
    "# interactive_plot = interactive(f, x=(0, c1.shape[1]), y=(0, c1.shape[2]))\n",
    "# output = interactive_plot.children[-1]\n",
    "# output.layout.height = '550px'\n",
    "# interactive_plot\n",
    "\n",
    "\n"
   ]
  },
  {
   "cell_type": "code",
   "execution_count": null,
   "metadata": {},
   "outputs": [],
   "source": [
    "P = out.P[0][0, ...]\n",
    "K = P.shape[0]//3//4\n",
    "print(K)\n",
    "H, W = P.shape[1], P.shape[2]\n",
    "\n",
    "l = P.reshape(4, 3, K, H, W)\n",
    "\n",
    "logit_probs = F.softmax(l[0, ...], dim=1)  # CKHW\n",
    "means = l[1, ...]  # NCKHW\n",
    "log_scales = torch.clamp(l[2, ...], min=-7)  # NCKHW, is >= -7\n",
    "coeffs = l[3, ...]\n",
    "\n",
    "for c in range(3):\n",
    "    for k in range(K):\n",
    "        logit_probs_c_k =  logit_probs[0, k, ...]\n",
    "        if logit_probs_c_k.mean() < 0.01:\n",
    "            continue\n",
    "        print(k, means.min(), means.max(), logit_probs_c_k.mean())\n",
    "        show_tensor(logit_probs_c_k.mul(255).round().to(torch.uint8), normalize=False)\n",
    "        means_c_k = means[c, k, ...]\n",
    "    #     means_c_k[logit_probs_c_k < 1e-3] = 0\n",
    "        print('Means', c, means_c_k[10:20, 10:20])\n",
    "        show_tensor(means_c_k, normalize=True)\n",
    "\n",
    "        scales_c_k = log_scales[c, k, ...]\n",
    "        print('Scales', c, scales_c_k[10:20, 10:20])\n",
    "\n",
    "        coeffs_c_k = coeffs[c, k, ...]\n",
    "        print('Coeffs', c, coeffs_c_k[10:20, 10:20])\n",
    "\n",
    "        scales_c_k[logit_probs_c_k < 1e-3] = 0\n",
    "        show_tensor(scales_c_k, normalize=True, mi=0)\n",
    "    \n"
   ]
  },
  {
   "cell_type": "code",
   "execution_count": null,
   "metadata": {
    "pycharm": {
     "name": "#%%\n"
    }
   },
   "outputs": [],
   "source": [
    "sigma = P[10:20, ...]\n",
    "for k in range(10):\n",
    "    show_tensor(sigma[k, ...], normalize=True)\n"
   ]
  },
  {
   "cell_type": "code",
   "execution_count": null,
   "metadata": {},
   "outputs": [],
   "source": []
  }
 ],
 "metadata": {
  "kernelspec": {
   "display_name": "Python (pyt11)",
   "language": "python",
   "name": "pyt11"
  },
  "language_info": {
   "codemirror_mode": {
    "name": "ipython",
    "version": 3
   },
   "file_extension": ".py",
   "mimetype": "text/x-python",
   "name": "python",
   "nbconvert_exporter": "python",
   "pygments_lexer": "ipython3",
   "version": "3.7.3"
  },
  "pycharm": {
   "stem_cell": {
    "cell_type": "raw",
    "metadata": {
     "collapsed": false
    },
    "source": []
   }
  }
 },
 "nbformat": 4,
 "nbformat_minor": 1
}
