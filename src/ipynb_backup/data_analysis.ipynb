{
 "cells": [
  {
   "cell_type": "code",
   "execution_count": 1,
   "metadata": {},
   "outputs": [
    {
     "name": "stdout",
     "output_type": "stream",
     "text": [
      "WRAN: using Agg backend linux\n",
      "Getting lock for /home/mentzerf/net_scratch/datasets/train_oi_bpg_q12/cached_glob.pkl: .cached_glob.lock [reset: False]...\n",
      ">>> filter [min_size=None; discard_s=True]: 0.79393\n"
     ]
    }
   ],
   "source": [
    "import glob\n",
    "import random\n",
    "import pickle\n",
    "import base64\n",
    "import pandas as pd\n",
    "\n",
    "from PIL import Image\n",
    "from io import BytesIO\n",
    "from IPython.display import HTML, display\n",
    "import os\n",
    "import glob\n",
    "\n",
    "from helpers.cin_bins import Quantizer\n",
    "from compressor import Compressor\n",
    "\n",
    "pd.set_option('display.max_colwidth', -1)  \n",
    "from dataloaders import cached_listdir_imgs\n",
    "\n",
    "%matplotlib inline\n",
    "\n",
    "\n",
    "# p_train_14 = '/home/mentzerf/net_scratch/datasets/train_oi_bpg_q12_10_mixed_bin11'\n",
    "p_oi_train = ('/home/mentzerf/net_scratch/datasets/train_oi_bpg_q12', None, True)\n",
    "p_div_val = ('/scratch/mentzerf/datasets/DIV2K/DIV2K_valid_HR_768_new_clean_bpg_q12',)\n",
    "p_div_train = ('/scratch/mentzerf/datasets/DIV2K/DIV2K_train_HR_768_clean_bpg_q12',)\n",
    "p_oi_train_mixed = ('/home/mentzerf/net_scratch/datasets/train_oi_bpg_q12_10_mixed_bin11', 512, True)\n",
    "p_kodak = ('/srv/beegfs02/scratch/cnncompression/data/datasets/kodak_bpg_q12',)\n",
    "p_oi_top = ('/home/mentzerf/net_scratch/datasets/oi_train_new_top50k_bpg_q12',)\n",
    "\n",
    "q = Quantizer('/home/mentzerf/net_scratch/datasets/train_oi_bpg_q12_bins_nb20.pkl')\n",
    "\n",
    "p = p_oi_train\n",
    "\n",
    "ps_12 = cached_listdir_imgs.cached_listdir_imgs(*p).ps #, min_size=512, discard_shitty=True).ps\n",
    "# ps_14 = cached_listdir_imgs.cached_listdir_imgs(p_train_14, discard_shitty=False).ps"
   ]
  },
  {
   "cell_type": "code",
   "execution_count": 2,
   "metadata": {},
   "outputs": [],
   "source": [
    "import shutil, torch, collections\n",
    "import numpy as np\n",
    "\n",
    "ps_bpsps = sorted([(p, Compressor.bpp_from_compressed_file(p)/3) for p in ps_12], key=lambda xy: xy[1])\n",
    "# bpsps_14 = sorted([(p, Compressor.bpp_from_compressed_file(p)/3) for p in ps_14], key=lambda xy: xy[1])\n",
    "\n",
    "# with open('oi_top_50k.txt', 'w') as f:\n",
    "#     ps_bpsps_top = map(os.path.basename, (p for p, _ in ps_bpsps[-50000:]))\n",
    "#     ps_bpsps_top = map(Compressor.filename_without_bpp, ps_bpsps_top)\n",
    "#     f.write('\\n'.join(ps_bpsps_top))\n",
    "    \n",
    "\n",
    "bpsps = [bpsp for _, bpsp in ps_bpsps]\n",
    "\n",
    "df = pd.DataFrame(bpsps)"
   ]
  },
  {
   "cell_type": "code",
   "execution_count": 3,
   "metadata": {
    "scrolled": false
   },
   "outputs": [
    {
     "ename": "NameError",
     "evalue": "name 'pkl_bins' is not defined",
     "output_type": "error",
     "traceback": [
      "\u001b[0;31m---------------------------------------------------------------------------\u001b[0m",
      "\u001b[0;31mNameError\u001b[0m                                 Traceback (most recent call last)",
      "\u001b[0;32m<ipython-input-3-8fb8e2ac5f23>\u001b[0m in \u001b[0;36m<module>\u001b[0;34m\u001b[0m\n\u001b[1;32m      6\u001b[0m \u001b[0;31m# first border is after 1/NB-th of the data\u001b[0m\u001b[0;34m\u001b[0m\u001b[0;34m\u001b[0m\u001b[0;34m\u001b[0m\u001b[0m\n\u001b[1;32m      7\u001b[0m \u001b[0;34m\u001b[0m\u001b[0m\n\u001b[0;32m----> 8\u001b[0;31m \u001b[0;32mwith\u001b[0m \u001b[0mopen\u001b[0m\u001b[0;34m(\u001b[0m\u001b[0mpkl_bins\u001b[0m\u001b[0;34m,\u001b[0m \u001b[0;34m'rb'\u001b[0m\u001b[0;34m)\u001b[0m \u001b[0;32mas\u001b[0m \u001b[0mf\u001b[0m\u001b[0;34m:\u001b[0m\u001b[0;34m\u001b[0m\u001b[0;34m\u001b[0m\u001b[0m\n\u001b[0m\u001b[1;32m      9\u001b[0m     \u001b[0mprint\u001b[0m\u001b[0;34m(\u001b[0m\u001b[0;34m'loading'\u001b[0m\u001b[0;34m)\u001b[0m\u001b[0;34m\u001b[0m\u001b[0;34m\u001b[0m\u001b[0m\n\u001b[1;32m     10\u001b[0m     \u001b[0mbin_borders_b\u001b[0m \u001b[0;34m=\u001b[0m \u001b[0mpickle\u001b[0m\u001b[0;34m.\u001b[0m\u001b[0mload\u001b[0m\u001b[0;34m(\u001b[0m\u001b[0mf\u001b[0m\u001b[0;34m)\u001b[0m\u001b[0;34m\u001b[0m\u001b[0;34m\u001b[0m\u001b[0m\n",
      "\u001b[0;31mNameError\u001b[0m: name 'pkl_bins' is not defined"
     ]
    }
   ],
   "source": [
    "\n",
    "# border     b0    b1     ...   bk         k+1 borders\n",
    "# bin_idx  0    1      2  ... k    k+1  => k+2 bins\n",
    "#\n",
    "# for N bins, we need N-1 borders\n",
    "# first border is after 1/NB-th of the data\n",
    "\n",
    "with open(pkl_bins, 'rb') as f:\n",
    "    print('loading')\n",
    "    bin_borders_b = pickle.load(f)\n",
    "    \n",
    "\n",
    "import matplotlib.pyplot as plt\n",
    "plt.figure()\n",
    "# plt.scatter(bin_borders_x, bin_borders_b)\n",
    "plt.plot(range(len(bpsps)), bpsps)\n",
    "\n",
    "import bisect\n",
    "    \n",
    "xs_rnd = [random.randint(0, len(bpsps)) for _ in range(10)]\n",
    "ys_rnd = [q.quantize(bpsps[idx]) for idx in xs_rnd]\n",
    "plt.scatter(xs_rnd, ys_rnd)\n",
    "\n",
    "# plt.scatter([0, 1], [_quantize(0), _quantize(20)])\n",
    "\n",
    "a = [_quantize(b) for b in bpsps]\n",
    "plt.plot(range(len(bpsps)), a)\n",
    "\n",
    "\n"
   ]
  },
  {
   "cell_type": "code",
   "execution_count": 62,
   "metadata": {},
   "outputs": [
    {
     "data": {
      "text/plain": [
       "<matplotlib.axes._subplots.AxesSubplot at 0x7f6fb01c1940>"
      ]
     },
     "execution_count": 62,
     "metadata": {},
     "output_type": "execute_result"
    },
    {
     "data": {
      "image/png": "[encoded data removed]",
      "text/plain": [
       "<Figure size 432x288 with 1 Axes>"
      ]
     },
     "metadata": {
      "needs_background": "light"
     },
     "output_type": "display_data"
    },
    {
     "data": {
      "image/png": "[encoded data removed]",
      "text/plain": [
       "<Figure size 432x288 with 1 Axes>"
      ]
     },
     "metadata": {
      "needs_background": "light"
     },
     "output_type": "display_data"
    }
   ],
   "source": [
    "f = df.plot(grid=True, legend=False)\n",
    "f.set_title('BPSP of BPG on Training Images')\n",
    "\n",
    "\n",
    "# def _quantize(x, bound_low, bound_high, num_bins):\n",
    "#     bound_range = bound_high - bound_low\n",
    "#     return x.clamp(bound_low, bound_high).sub(bound_low).div(bound_range).mul(num_bins-1).round().long()\n",
    "\n",
    "# CIN_BIN_MIN = 0.5\n",
    "# CIN_BIN_MAX = 3\n",
    "\n",
    "# NB=2\n",
    "# bins = np.linspace(CIN_BIN_MIN, CIN_BIN_MAX, NB)\n",
    "# bw = bins[1] - bins[0]\n",
    "\n",
    "# def get_cin_classes(bpsps):\n",
    "#     \"\"\" bpps: (N,) tensor\"\"\"\n",
    "#     return bisect.bisect_right(bin_borders_b, bpsps)\n",
    "# #     if bpsps >= (bins[6] + bw/2):\n",
    "# #         return 2\n",
    "# #     if bpsps >= (bins[3] + bw*3/4):\n",
    "# #         return 1\n",
    "# #     return 0\n",
    "#     return int(_quantize(bpsps, CIN_BIN_MIN, CIN_BIN_MAX, NB))\n",
    "\n",
    "bins = list(map(q.quantize, bpsps))\n",
    "pd.DataFrame(bins).plot()"
   ]
  },
  {
   "cell_type": "code",
   "execution_count": 63,
   "metadata": {},
   "outputs": [
    {
     "name": "stdout",
     "output_type": "stream",
     "text": [
      "Counter({19: 22739, 18: 18920, 17: 4168, 16: 8, 14: 3, 8: 2, 13: 2, 2: 1, 5: 1, 7: 1, 9: 1, 10: 1, 11: 1, 12: 1})\n"
     ]
    },
    {
     "data": {
      "text/plain": [
       "<BarContainer object of 14 artists>"
      ]
     },
     "execution_count": 63,
     "metadata": {},
     "output_type": "execute_result"
    },
    {
     "data": {
      "image/png": "[encoded data removed]",
      "text/plain": [
       "<Figure size 432x288 with 1 Axes>"
      ]
     },
     "metadata": {
      "needs_background": "light"
     },
     "output_type": "display_data"
    }
   ],
   "source": [
    "bins = collections.Counter(bins)\n",
    "print(bins)\n",
    "bins = sorted(bins.items())\n",
    "xs = [b for b, c in bins]\n",
    "ys = [c for b, c in bins]\n",
    "plt.bar(xs, ys)"
   ]
  },
  {
   "cell_type": "code",
   "execution_count": null,
   "metadata": {},
   "outputs": [],
   "source": []
  }
 ],
 "metadata": {
  "kernelspec": {
   "display_name": "Python (pyt11)",
   "language": "python",
   "name": "pyt11"
  },
  "language_info": {
   "codemirror_mode": {
    "name": "ipython",
    "version": 3
   },
   "file_extension": ".py",
   "mimetype": "text/x-python",
   "name": "python",
   "nbconvert_exporter": "python",
   "pygments_lexer": "ipython3",
   "version": "3.7.3"
  }
 },
 "nbformat": 4,
 "nbformat_minor": 2
}
